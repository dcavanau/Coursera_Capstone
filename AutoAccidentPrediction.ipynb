{
    "cells": [
        {
            "cell_type": "markdown",
            "metadata": {
                "collapsed": true
            },
            "source": "# Capstone Project - Auto Accident Prediction (Week 2)\n## Applied Data Science Capstone by IBM/Coursera\n\nThis notebook will be used for the Applied Data Science Capstone project"
        },
        {
            "cell_type": "markdown",
            "metadata": {},
            "source": "## Table of contents\n* [Introduction: Business Problem](#introduction)\n* [Data](#data)\n* [Methodology](#methodology)\n* [Analysis](#analysis)\n* [Results and Discussion](#results)\n* [Conclusion](#conclusion)"
        },
        {
            "cell_type": "markdown",
            "metadata": {},
            "source": "## Introduction: Business Problem <a name=\"introduction\"></a>"
        },
        {
            "cell_type": "markdown",
            "metadata": {},
            "source": "Say you are driving to another city for work or to visit some friends. It is rainy and windy. On the way to your destination, you come across a terrible traffic jam on the other side of the highway. Long lines of cars are barely moving. As you keep driving, police car start appearing from afar, shutting down the highway. There is an accident and a helicopter is transporting the ones involved in the crash to the nearest hospital. The victems must be in critical condition for all of this to be happening.\n \nNow, wouldn't it be great if there is something in place that could warn you, given the weather and the road conditions, about the possibility of you getting into a car accident and how severe it would be.  The advance warning could prompt you to  drive more carefully or even change your travel plans if you are able to."
        },
        {
            "cell_type": "markdown",
            "metadata": {},
            "source": "## Data <a name=\"data\"></a>"
        },
        {
            "cell_type": "markdown",
            "metadata": {},
            "source": "Load the required libraries"
        },
        {
            "cell_type": "code",
            "execution_count": 13,
            "metadata": {},
            "outputs": [],
            "source": "import itertools\nimport numpy as np\nimport matplotlib.pyplot as plt\nfrom matplotlib.ticker import NullFormatter\nimport pandas as pd\nimport numpy as np\nimport matplotlib.ticker as ticker\nfrom sklearn import preprocessing\nfrom sklearn.model_selection import train_test_split\nfrom sklearn.neighbors import KNeighborsClassifier\nfrom sklearn import metrics\nfrom sklearn.metrics import jaccard_similarity_score\nfrom sklearn.metrics import f1_score\nfrom sklearn.metrics import log_loss\n%matplotlib inline"
        },
        {
            "cell_type": "markdown",
            "metadata": {},
            "source": "### Retrieve The Dataset\nThe data used to train and evaluate the model is the collision data set from the SDOT Traffic Management Division, Traffic Records Group. The data set is updated weekly from 2004 to the present. The data set is compiled from all collisions provided by the Seattle Police department and recorded by the Traffic Records Group.\n\n\nDownload the current collision data from <a name=Seattle Geo Data>http://data-seattlecitygis.opendata.arcgis.com</a>"
        },
        {
            "cell_type": "code",
            "execution_count": 14,
            "metadata": {},
            "outputs": [
                {
                    "name": "stdout",
                    "output_type": "stream",
                    "text": "--2020-09-08 10:26:36--  https://opendata.arcgis.com/datasets/5b5c745e0f1f48e7a53acec63a0022ab_0.csv\nResolving opendata.arcgis.com (opendata.arcgis.com)... 54.204.141.17, 34.224.12.157, 50.19.49.12\nConnecting to opendata.arcgis.com (opendata.arcgis.com)|54.204.141.17|:443... connected.\nHTTP request sent, awaiting response... 200 OK\nLength: unspecified [text/csv]\nSaving to: \u2018Collisions.csv\u2019\n\n    [     <=>                               ] 84,855,377  87.6MB/s   in 0.9s   \n\n2020-09-08 10:26:38 (87.6 MB/s) - \u2018Collisions.csv\u2019 saved [84855377]\n\n"
                }
            ],
            "source": "!wget -O Collisions.csv https://opendata.arcgis.com/datasets/5b5c745e0f1f48e7a53acec63a0022ab_0.csv"
        },
        {
            "cell_type": "markdown",
            "metadata": {},
            "source": "### Load Data from CSV file\nThe data has unlabeled extra columns, which will cause an error if not accounted for. The _OBJECTID_ is used as the index for this dataset."
        },
        {
            "cell_type": "code",
            "execution_count": 15,
            "metadata": {
                "scrolled": true
            },
            "outputs": [
                {
                    "data": {
                        "text/html": "<div>\n<style scoped>\n    .dataframe tbody tr th:only-of-type {\n        vertical-align: middle;\n    }\n\n    .dataframe tbody tr th {\n        vertical-align: top;\n    }\n\n    .dataframe thead th {\n        text-align: right;\n    }\n</style>\n<table border=\"1\" class=\"dataframe\">\n  <thead>\n    <tr style=\"text-align: right;\">\n      <th></th>\n      <th>X</th>\n      <th>Y</th>\n      <th>INCKEY</th>\n      <th>COLDETKEY</th>\n      <th>REPORTNO</th>\n      <th>STATUS</th>\n      <th>ADDRTYPE</th>\n      <th>INTKEY</th>\n      <th>LOCATION</th>\n      <th>EXCEPTRSNCODE</th>\n      <th>...</th>\n      <th>ROADCOND</th>\n      <th>LIGHTCOND</th>\n      <th>PEDROWNOTGRNT</th>\n      <th>SDOTCOLNUM</th>\n      <th>SPEEDING</th>\n      <th>ST_COLCODE</th>\n      <th>ST_COLDESC</th>\n      <th>SEGLANEKEY</th>\n      <th>CROSSWALKKEY</th>\n      <th>HITPARKEDCAR</th>\n    </tr>\n    <tr>\n      <th>OBJECTID</th>\n      <th></th>\n      <th></th>\n      <th></th>\n      <th></th>\n      <th></th>\n      <th></th>\n      <th></th>\n      <th></th>\n      <th></th>\n      <th></th>\n      <th></th>\n      <th></th>\n      <th></th>\n      <th></th>\n      <th></th>\n      <th></th>\n      <th></th>\n      <th></th>\n      <th></th>\n      <th></th>\n      <th></th>\n    </tr>\n  </thead>\n  <tbody>\n    <tr>\n      <th>1</th>\n      <td>-122.386772</td>\n      <td>47.564720</td>\n      <td>326234</td>\n      <td>327734</td>\n      <td>E984735</td>\n      <td>Matched</td>\n      <td>Intersection</td>\n      <td>31893.0</td>\n      <td>CALIFORNIA AVE SW AND SW GENESEE ST</td>\n      <td></td>\n      <td>...</td>\n      <td>Dry</td>\n      <td>Daylight</td>\n      <td>Y</td>\n      <td>NaN</td>\n      <td>NaN</td>\n      <td>2</td>\n      <td>Vehicle turning left hits pedestrian</td>\n      <td>0</td>\n      <td>0</td>\n      <td>N</td>\n    </tr>\n    <tr>\n      <th>2</th>\n      <td>-122.341806</td>\n      <td>47.686934</td>\n      <td>326246</td>\n      <td>327746</td>\n      <td>E985430</td>\n      <td>Matched</td>\n      <td>Intersection</td>\n      <td>24228.0</td>\n      <td>STONE AVE N AND N 80TH ST</td>\n      <td></td>\n      <td>...</td>\n      <td>Wet</td>\n      <td>Dark - Street Lights On</td>\n      <td>NaN</td>\n      <td>NaN</td>\n      <td>NaN</td>\n      <td>10</td>\n      <td>Entering at angle</td>\n      <td>0</td>\n      <td>0</td>\n      <td>N</td>\n    </tr>\n    <tr>\n      <th>3</th>\n      <td>-122.374899</td>\n      <td>47.668666</td>\n      <td>329254</td>\n      <td>330754</td>\n      <td>EA16720</td>\n      <td>Matched</td>\n      <td>Block</td>\n      <td>NaN</td>\n      <td>NW MARKET ST BETWEEN 14TH AVE NW AND 15TH AVE NW</td>\n      <td></td>\n      <td>...</td>\n      <td>Dry</td>\n      <td>Daylight</td>\n      <td>NaN</td>\n      <td>NaN</td>\n      <td>NaN</td>\n      <td>11</td>\n      <td>From same direction - both going straight - bo...</td>\n      <td>0</td>\n      <td>0</td>\n      <td>N</td>\n    </tr>\n    <tr>\n      <th>4</th>\n      <td>-122.300758</td>\n      <td>47.683047</td>\n      <td>21200</td>\n      <td>21200</td>\n      <td>1227970</td>\n      <td>Matched</td>\n      <td>Intersection</td>\n      <td>24661.0</td>\n      <td>25TH AVE NE AND NE 75TH ST</td>\n      <td>NaN</td>\n      <td>...</td>\n      <td>Wet</td>\n      <td>Dark - Street Lights On</td>\n      <td>NaN</td>\n      <td>4160038.0</td>\n      <td>NaN</td>\n      <td>28</td>\n      <td>From opposite direction - one left turn - one ...</td>\n      <td>0</td>\n      <td>0</td>\n      <td>N</td>\n    </tr>\n    <tr>\n      <th>5</th>\n      <td>-122.313053</td>\n      <td>47.567241</td>\n      <td>17000</td>\n      <td>17000</td>\n      <td>1793348</td>\n      <td>Unmatched</td>\n      <td>Block</td>\n      <td>NaN</td>\n      <td>S DAKOTA ST BETWEEN 15TH AVE S AND 16TH AVE S</td>\n      <td>NaN</td>\n      <td>...</td>\n      <td>NaN</td>\n      <td>NaN</td>\n      <td>NaN</td>\n      <td>4289025.0</td>\n      <td>NaN</td>\n      <td>NaN</td>\n      <td>NaN</td>\n      <td>0</td>\n      <td>0</td>\n      <td>N</td>\n    </tr>\n  </tbody>\n</table>\n<p>5 rows \u00d7 39 columns</p>\n</div>",
                        "text/plain": "                   X          Y  INCKEY  COLDETKEY REPORTNO     STATUS  \\\nOBJECTID                                                                 \n1        -122.386772  47.564720  326234     327734  E984735    Matched   \n2        -122.341806  47.686934  326246     327746  E985430    Matched   \n3        -122.374899  47.668666  329254     330754  EA16720    Matched   \n4        -122.300758  47.683047   21200      21200  1227970    Matched   \n5        -122.313053  47.567241   17000      17000  1793348  Unmatched   \n\n              ADDRTYPE   INTKEY  \\\nOBJECTID                          \n1         Intersection  31893.0   \n2         Intersection  24228.0   \n3                Block      NaN   \n4         Intersection  24661.0   \n5                Block      NaN   \n\n                                                  LOCATION EXCEPTRSNCODE  ...  \\\nOBJECTID                                                                  ...   \n1                      CALIFORNIA AVE SW AND SW GENESEE ST                ...   \n2                                STONE AVE N AND N 80TH ST                ...   \n3         NW MARKET ST BETWEEN 14TH AVE NW AND 15TH AVE NW                ...   \n4                               25TH AVE NE AND NE 75TH ST           NaN  ...   \n5            S DAKOTA ST BETWEEN 15TH AVE S AND 16TH AVE S           NaN  ...   \n\n         ROADCOND                LIGHTCOND PEDROWNOTGRNT SDOTCOLNUM  SPEEDING  \\\nOBJECTID                                                                        \n1             Dry                 Daylight             Y        NaN       NaN   \n2             Wet  Dark - Street Lights On           NaN        NaN       NaN   \n3             Dry                 Daylight           NaN        NaN       NaN   \n4             Wet  Dark - Street Lights On           NaN  4160038.0       NaN   \n5             NaN                      NaN           NaN  4289025.0       NaN   \n\n          ST_COLCODE                                         ST_COLDESC  \\\nOBJECTID                                                                  \n1                  2               Vehicle turning left hits pedestrian   \n2                 10                                  Entering at angle   \n3                 11  From same direction - both going straight - bo...   \n4                 28  From opposite direction - one left turn - one ...   \n5                NaN                                                NaN   \n\n          SEGLANEKEY  CROSSWALKKEY  HITPARKEDCAR  \nOBJECTID                                          \n1                  0             0             N  \n2                  0             0             N  \n3                  0             0             N  \n4                  0             0             N  \n5                  0             0             N  \n\n[5 rows x 39 columns]"
                    },
                    "execution_count": 15,
                    "metadata": {},
                    "output_type": "execute_result"
                }
            ],
            "source": "cols = pd.read_csv('Collisions.csv', nrows=1).columns\ndf = pd.read_csv('Collisions.csv', usecols=cols, index_col=2)\ndf.head()"
        },
        {
            "cell_type": "markdown",
            "metadata": {},
            "source": "### Preprocess The Data\n\nNormalize the data and fill in missing values where it makes sense. Display the frequency tables for various features to helpdetermine which features to use."
        },
        {
            "cell_type": "code",
            "execution_count": 16,
            "metadata": {
                "scrolled": true
            },
            "outputs": [
                {
                    "name": "stdout",
                    "output_type": "stream",
                    "text": "\nAddress Type:\n Block           144857\nIntersection     71823\nUnknown           3712\nAlley              874\nName: ADDRTYPE, dtype: int64\n\nWeather:\n Clear                       114361\nUnknown                      41819\nRaining                      34021\nOvercast                     28508\nSnowing                        919\nOther                          853\nFog/Smog/Smoke                 577\nSleet/Hail/Freezing Rain       116\nBlowing Sand/Dirt               56\nSevere Crosswind                26\nPartly Cloudy                    9\nBlowing Snow                     1\nName: WEATHER, dtype: int64\n\nLight Conditions:\n Daylight                    119166\nDark - Street Lights On      50053\nUnknown                      40299\nDusk                          6076\nDawn                          2599\nDark - No Street Lights       1573\nDark - Street Lights Off      1236\nOther                          244\nDark - Unknown Lighting         20\nName: LIGHTCOND, dtype: int64\n\nRoad Conditions:\n Dry               128171\nWet                48715\nUnknown            41739\nIce                 1231\nSnow/Slush          1014\nOther                136\nStanding Water       119\nSand/Mud/Dirt         77\nOil                   64\nName: ROADCOND, dtype: int64\n\nJunction Type:\n Mid-Block (not related to intersection)              101579\nAt Intersection (intersection related)                69117\nMid-Block (but intersection related)                  24402\nUnknown                                               11988\nDriveway Junction                                     11495\nAt Intersection (but not related to intersection)      2495\nRamp Junction                                           190\nName: JUNCTIONTYPE, dtype: int64\n\nInattention Indicator:\n N    191078\nY     30188\nName: INATTENTIONIND, dtype: int64\n\nUnder Influence:\n N    211637\nY      9629\nName: UNDERINFL, dtype: int64\n\nPedestrian Not Granted:\n N    216078\nY      5188\nName: PEDROWNOTGRNT, dtype: int64\n\nSpeeding:\n N    211353\nY      9913\nName: SPEEDING, dtype: int64\n\nHit Parked Car:\n N    209290\nY     11976\nName: HITPARKEDCAR, dtype: int64\n\nSeverity Code:\n 1     137485\n2      58698\n0      21635\n2b      3098\n3        349\nName: SEVERITYCODE, dtype: int64\n"
                }
            ],
            "source": "df['ADDRTYPE'] = df['ADDRTYPE'].fillna('Unknown')\nprint(\"\\nAddress Type:\\n\", df['ADDRTYPE'].value_counts())\n\ndf['WEATHER'] = df['WEATHER'].fillna('Unknown')\nprint(\"\\nWeather:\\n\", df['WEATHER'].value_counts())\n\ndf['LIGHTCOND'] = df['LIGHTCOND'].fillna('Unknown')\nprint(\"\\nLight Conditions:\\n\", df['LIGHTCOND'].value_counts())\n\ndf['ROADCOND'] = df['ROADCOND'].fillna('Unknown')\nprint(\"\\nRoad Conditions:\\n\", df['ROADCOND'].value_counts())\n\ndf['JUNCTIONTYPE'] = df['JUNCTIONTYPE'].fillna('Unknown')\nprint(\"\\nJunction Type:\\n\", df['JUNCTIONTYPE'].value_counts())\n\n# treat an blank record as N\ndf['INATTENTIONIND'] = df['INATTENTIONIND'].fillna('N')\nprint(\"\\nInattention Indicator:\\n\", df['INATTENTIONIND'].value_counts())\n\n# treat an blank record as N, a 0 as N and 1 as Y\ndf['UNDERINFL'] = df['UNDERINFL'].fillna('N')\ndf['UNDERINFL'] = df['UNDERINFL'].replace(['0','1'],['N','Y'])\nprint(\"\\nUnder Influence:\\n\", df['UNDERINFL'].value_counts())\n\n# treat an blank record as N, a 0 as N and 1 as Y\ndf['PEDROWNOTGRNT'] = df['PEDROWNOTGRNT'].fillna('N')\ndf['PEDROWNOTGRNT'] = df['PEDROWNOTGRNT'].replace(['0','1'],['N','Y'])\nprint(\"\\nPedestrian Not Granted:\\n\", df['PEDROWNOTGRNT'].value_counts())\n\n# treat an blank record as N, a 0 as N and 1 as Y\ndf['SPEEDING'] = df['SPEEDING'].fillna('N')\ndf['SPEEDING'] = df['SPEEDING'].replace(['0','1'],['N','Y'])\nprint(\"\\nSpeeding:\\n\", df['SPEEDING'].value_counts())\n\nprint(\"\\nHit Parked Car:\\n\", df['HITPARKEDCAR'].value_counts())\n\nprint(\"\\nSeverity Code:\\n\", df['SEVERITYCODE'].value_counts())\n"
        },
        {
            "cell_type": "markdown",
            "metadata": {},
            "source": "### Assess The Features To Use"
        },
        {
            "cell_type": "markdown",
            "metadata": {},
            "source": "Change the _WEATHER_ types _Snowing_, _Fog/Smog/Snow_, _Sleet/Hail/Freezing_Rain_, _Blowing Sand/Dirt_, _Severe Crosswind_, _Partley Cloudy_, and _Blowing Snow_ to _Other_. These are not major factors in the data set and can be safely combined to help limit the feature set.Timestamps are not available. If they were, the _Unknown_ values could be set to reflect the appropriate weather conditions\n"
        },
        {
            "cell_type": "code",
            "execution_count": 17,
            "metadata": {},
            "outputs": [
                {
                    "name": "stdout",
                    "output_type": "stream",
                    "text": "\nWeather:\n Clear       114361\nUnknown      41819\nRaining      34021\nOvercast     28508\nOther         2557\nName: WEATHER, dtype: int64\n"
                }
            ],
            "source": "df['WEATHER'].replace({'Snowing':'Other', 'Fog/Smog/Smoke':'Other', 'Sleet/Hail/Freezing Rain':'Other', 'Blowing Sand/Dirt':'Other', 'Severe Crosswind':'Other', 'Partly Cloudy':'Other', 'Blowing Snow':'Other'}, value=None, inplace=True)\nprint(\"\\nWeather:\\n\", df['WEATHER'].value_counts())"
        },
        {
            "cell_type": "markdown",
            "metadata": {},
            "source": "Change the _LIGHTCOND_ types _Dark - Street Lights On_, _Dark - No Street Lights_, _Dark - Street Lights Off_, and _Dark - Unknown Lighting_ to _Dark_. These are not major factors in the data set and can be safely combined to help limit the feature set. Timestamps are not available. If they were, the _Unknown_ values could be set to reflect the appropriate light conditions."
        },
        {
            "cell_type": "code",
            "execution_count": 18,
            "metadata": {},
            "outputs": [
                {
                    "name": "stdout",
                    "output_type": "stream",
                    "text": "\nLight Conditions:\n Daylight    119166\nDark         52882\nUnknown      40299\nDusk          6076\nDawn          2599\nOther          244\nName: LIGHTCOND, dtype: int64\n"
                }
            ],
            "source": "df['LIGHTCOND'].replace({'Dark - Street Lights On':'Dark', 'Dark - No Street Lights':'Dark', 'Dark - Street Lights Off':'Dark', 'Dark - Unknown Lighting':'Dark'}, value=None, inplace=True)\nprint(\"\\nLight Conditions:\\n\", df['LIGHTCOND'].value_counts())"
        },
        {
            "cell_type": "markdown",
            "metadata": {},
            "source": "Change the _ROADCOND_ types _Ice_, _Snow/Slush_, _Standing Water_, _Sand/Mud/Dirt_, and _Oil_ to _Other_. These are not major factors in the data set and can be safely combined to help limit the feature set."
        },
        {
            "cell_type": "code",
            "execution_count": 19,
            "metadata": {},
            "outputs": [
                {
                    "name": "stdout",
                    "output_type": "stream",
                    "text": "\nRoad Conditions:\n Dry        128171\nWet         48715\nUnknown     41739\nOther        2641\nName: ROADCOND, dtype: int64\n"
                }
            ],
            "source": "df['ROADCOND'].replace({'Ice':'Other', 'Snow/Slush':'Other', 'Standing Water':'Other', 'Sand/Mud/Dirt':'Other', 'Oil':'Other'}, value=None, inplace=True)\nprint(\"\\nRoad Conditions:\\n\", df['ROADCOND'].value_counts())"
        },
        {
            "cell_type": "markdown",
            "metadata": {},
            "source": "Remove rows where where the value is _Unknown_ or _Other_."
        },
        {
            "cell_type": "code",
            "execution_count": 20,
            "metadata": {},
            "outputs": [
                {
                    "name": "stdout",
                    "output_type": "stream",
                    "text": "Rows before cleaning:  (221266, 39)\nRows after cleaning:  (171806, 39)\n"
                }
            ],
            "source": "print(\"Rows before cleaning: \", df.shape)\n#df = df[~df['ADDRTYPE'].isin(['Unknown'])]\ndf = df[~df['WEATHER'].isin(['Unknown'])]\ndf = df[~df['WEATHER'].isin(['Other'])]\ndf = df[~df['LIGHTCOND'].isin(['Unknown'])]\ndf = df[~df['LIGHTCOND'].isin(['Other'])]\ndf = df[~df['ROADCOND'].isin(['Unknown'])]\ndf = df[~df['ROADCOND'].isin(['Other'])]\ndf = df[~df['SEVERITYDESC'].isin(['Unknown'])]\nprint (\"Rows after cleaning: \", df.shape)"
        },
        {
            "cell_type": "markdown",
            "metadata": {},
            "source": "### Convert Categorical Features to Numeric Values"
        },
        {
            "cell_type": "code",
            "execution_count": 21,
            "metadata": {},
            "outputs": [
                {
                    "data": {
                        "text/html": "<div>\n<style scoped>\n    .dataframe tbody tr th:only-of-type {\n        vertical-align: middle;\n    }\n\n    .dataframe tbody tr th {\n        vertical-align: top;\n    }\n\n    .dataframe thead th {\n        text-align: right;\n    }\n</style>\n<table border=\"1\" class=\"dataframe\">\n  <thead>\n    <tr style=\"text-align: right;\">\n      <th></th>\n      <th>PERSONCOUNT</th>\n      <th>VEHCOUNT</th>\n      <th>Clear</th>\n      <th>Overcast</th>\n      <th>Raining</th>\n      <th>Dry</th>\n      <th>Wet</th>\n      <th>Dark</th>\n      <th>Dawn</th>\n      <th>Daylight</th>\n      <th>Dusk</th>\n    </tr>\n    <tr>\n      <th>OBJECTID</th>\n      <th></th>\n      <th></th>\n      <th></th>\n      <th></th>\n      <th></th>\n      <th></th>\n      <th></th>\n      <th></th>\n      <th></th>\n      <th></th>\n      <th></th>\n    </tr>\n  </thead>\n  <tbody>\n    <tr>\n      <th>1</th>\n      <td>2</td>\n      <td>1</td>\n      <td>1</td>\n      <td>0</td>\n      <td>0</td>\n      <td>1</td>\n      <td>0</td>\n      <td>0</td>\n      <td>0</td>\n      <td>1</td>\n      <td>0</td>\n    </tr>\n    <tr>\n      <th>2</th>\n      <td>4</td>\n      <td>2</td>\n      <td>0</td>\n      <td>0</td>\n      <td>1</td>\n      <td>0</td>\n      <td>1</td>\n      <td>1</td>\n      <td>0</td>\n      <td>0</td>\n      <td>0</td>\n    </tr>\n    <tr>\n      <th>3</th>\n      <td>4</td>\n      <td>3</td>\n      <td>1</td>\n      <td>0</td>\n      <td>0</td>\n      <td>1</td>\n      <td>0</td>\n      <td>0</td>\n      <td>0</td>\n      <td>1</td>\n      <td>0</td>\n    </tr>\n    <tr>\n      <th>4</th>\n      <td>2</td>\n      <td>2</td>\n      <td>0</td>\n      <td>0</td>\n      <td>1</td>\n      <td>0</td>\n      <td>1</td>\n      <td>1</td>\n      <td>0</td>\n      <td>0</td>\n      <td>0</td>\n    </tr>\n    <tr>\n      <th>7</th>\n      <td>2</td>\n      <td>2</td>\n      <td>1</td>\n      <td>0</td>\n      <td>0</td>\n      <td>1</td>\n      <td>0</td>\n      <td>1</td>\n      <td>0</td>\n      <td>0</td>\n      <td>0</td>\n    </tr>\n  </tbody>\n</table>\n</div>",
                        "text/plain": "          PERSONCOUNT  VEHCOUNT  Clear  Overcast  Raining  Dry  Wet  Dark  \\\nOBJECTID                                                                    \n1                   2         1      1         0        0    1    0     0   \n2                   4         2      0         0        1    0    1     1   \n3                   4         3      1         0        0    1    0     0   \n4                   2         2      0         0        1    0    1     1   \n7                   2         2      1         0        0    1    0     1   \n\n          Dawn  Daylight  Dusk  \nOBJECTID                        \n1            0         1     0  \n2            0         0     0  \n3            0         1     0  \n4            0         0     0  \n7            0         0     0  "
                    },
                    "execution_count": 21,
                    "metadata": {},
                    "output_type": "execute_result"
                }
            ],
            "source": "Feature = df[['PERSONCOUNT','VEHCOUNT']]\n# do One Hot Encoding\nFeature = pd.concat([Feature,pd.get_dummies(df['WEATHER'])], axis=1)\nFeature = pd.concat([Feature,pd.get_dummies(df['ROADCOND'])], axis=1)\nFeature = pd.concat([Feature,pd.get_dummies(df['LIGHTCOND'])], axis=1)\nFeature.head()"
        },
        {
            "cell_type": "code",
            "execution_count": 22,
            "metadata": {},
            "outputs": [
                {
                    "name": "stdout",
                    "output_type": "stream",
                    "text": "Train set: (137444, 11) (137444,)\nTest set: (34362, 11) (34362,)\n"
                },
                {
                    "name": "stderr",
                    "output_type": "stream",
                    "text": "/opt/conda/envs/Python36/lib/python3.6/site-packages/sklearn/preprocessing/data.py:645: DataConversionWarning: Data with input dtype uint8, int64 were all converted to float64 by StandardScaler.\n  return self.partial_fit(X, y)\n/opt/conda/envs/Python36/lib/python3.6/site-packages/ipykernel/__main__.py:4: DataConversionWarning: Data with input dtype uint8, int64 were all converted to float64 by StandardScaler.\n"
                }
            ],
            "source": "X = Feature\ny = df['SEVERITYDESC'].values\n\nX= preprocessing.StandardScaler().fit(X).transform(X)\n\nX_train, X_test, y_train, y_test = train_test_split( X, y, test_size=0.2, random_state=4)\nprint ('Train set:', X_train.shape,  y_train.shape)\nprint ('Test set:', X_test.shape,  y_test.shape)"
        },
        {
            "cell_type": "markdown",
            "metadata": {},
            "source": "## Methodology <a name=\"methodology\"></a>"
        },
        {
            "cell_type": "markdown",
            "metadata": {},
            "source": "## Analysis <a name=\"analysis\"></a>"
        },
        {
            "cell_type": "markdown",
            "metadata": {},
            "source": "## K Nearest Neighbor (KNN)"
        },
        {
            "cell_type": "code",
            "execution_count": null,
            "metadata": {
                "scrolled": false
            },
            "outputs": [],
            "source": "Ks = 10\nmean_accKNN = np.zeros((Ks-1))\nmean_jacKNN = np.zeros((Ks-1))\nmean_F1KNN  = np.zeros((Ks-1))\nfor n in range(1,Ks):\n    \n    #Train Model and Predict\n    print (\"Ks = \", n)\n    neigh = KNeighborsClassifier(n_neighbors=n, n_jobs=1, weights='distance').fit(X_train,y_train)\n    yhat=neigh.predict(X_test)\n\n    mean_accKNN[n-1] = metrics.accuracy_score(y_test, yhat)\n    mean_jacKNN[n-1] = jaccard_similarity_score(y_test, yhat)\n    mean_F1KNN[n-1]  = f1_score(y_test, yhat, average='weighted')\n    \nprint (\"KNN Accuracy table: \", mean_accKNN)\nprint( \"The best accuracy is\", mean_accKNN.max(), \"with k=\", mean_accKNN.argmax()+1) \n\nprint (\"KNN Jaccard index table: \", mean_jacKNN)\nprint( \"The best Jaccard index is\", mean_jacKNN.max(), \"with k=\", mean_jacKNN.argmax()+1) \n\nprint (\"KNN F1-score table: \", mean_F1KNN)\nprint( \"The best F1-score is\", mean_F1KNN.max(), \"with k=\", mean_F1KNN.argmax()+1) "
        },
        {
            "cell_type": "markdown",
            "metadata": {},
            "source": "## Decision Tree"
        },
        {
            "cell_type": "code",
            "execution_count": 23,
            "metadata": {},
            "outputs": [
                {
                    "name": "stdout",
                    "output_type": "stream",
                    "text": "Ks =  1\n"
                },
                {
                    "name": "stderr",
                    "output_type": "stream",
                    "text": "/opt/conda/envs/Python36/lib/python3.6/site-packages/sklearn/metrics/classification.py:1143: UndefinedMetricWarning: F-score is ill-defined and being set to 0.0 in labels with no predicted samples.\n  'precision', 'predicted', average, warn_for)\n"
                },
                {
                    "name": "stdout",
                    "output_type": "stream",
                    "text": "Ks =  2\n"
                },
                {
                    "name": "stderr",
                    "output_type": "stream",
                    "text": "/opt/conda/envs/Python36/lib/python3.6/site-packages/sklearn/metrics/classification.py:1143: UndefinedMetricWarning: F-score is ill-defined and being set to 0.0 in labels with no predicted samples.\n  'precision', 'predicted', average, warn_for)\n"
                },
                {
                    "name": "stdout",
                    "output_type": "stream",
                    "text": "Ks =  3\n"
                },
                {
                    "name": "stderr",
                    "output_type": "stream",
                    "text": "/opt/conda/envs/Python36/lib/python3.6/site-packages/sklearn/metrics/classification.py:1143: UndefinedMetricWarning: F-score is ill-defined and being set to 0.0 in labels with no predicted samples.\n  'precision', 'predicted', average, warn_for)\n"
                },
                {
                    "name": "stdout",
                    "output_type": "stream",
                    "text": "Ks =  4\n"
                },
                {
                    "name": "stderr",
                    "output_type": "stream",
                    "text": "/opt/conda/envs/Python36/lib/python3.6/site-packages/sklearn/metrics/classification.py:1143: UndefinedMetricWarning: F-score is ill-defined and being set to 0.0 in labels with no predicted samples.\n  'precision', 'predicted', average, warn_for)\n"
                },
                {
                    "name": "stdout",
                    "output_type": "stream",
                    "text": "Ks =  5\n"
                },
                {
                    "name": "stderr",
                    "output_type": "stream",
                    "text": "/opt/conda/envs/Python36/lib/python3.6/site-packages/sklearn/metrics/classification.py:1143: UndefinedMetricWarning: F-score is ill-defined and being set to 0.0 in labels with no predicted samples.\n  'precision', 'predicted', average, warn_for)\n"
                },
                {
                    "name": "stdout",
                    "output_type": "stream",
                    "text": "Ks =  6\n"
                },
                {
                    "name": "stderr",
                    "output_type": "stream",
                    "text": "/opt/conda/envs/Python36/lib/python3.6/site-packages/sklearn/metrics/classification.py:1143: UndefinedMetricWarning: F-score is ill-defined and being set to 0.0 in labels with no predicted samples.\n  'precision', 'predicted', average, warn_for)\n"
                },
                {
                    "name": "stdout",
                    "output_type": "stream",
                    "text": "Ks =  7\nKs =  8\nKs =  9\nDecision Tree Accuracy table:  [0.67647401 0.70499389 0.70551772 0.70935918 0.70898085 0.71264769\n 0.71264769 0.71317153 0.71290961]\nThe best accuracy is 0.713171526686456 with k= 8\nDecision Tree Jaccard index table:  [0.67647401 0.70499389 0.70551772 0.70935918 0.70898085 0.71264769\n 0.71264769 0.71317153 0.71290961]\nThe best Jaccard index is 0.713171526686456 with k= 8\nDecision Tree F1-score table:  [0.62938195 0.63573053 0.63820709 0.66148592 0.64745206 0.66085669\n 0.66129807 0.66226663 0.66188714]\nThe best F1-score is 0.6622666321292395 with k= 8\n"
                }
            ],
            "source": "from sklearn.tree import DecisionTreeClassifier\nDT_model = DecisionTreeClassifier(criterion=\"entropy\", max_depth = 10)\nDT_model.fit(X_train,y_train)\nDT_model\n\nKs = 10\nmean_accDT = np.zeros((Ks-1))\nmean_jacDT = np.zeros((Ks-1))\nmean_F1DT  = np.zeros((Ks-1))\n\nfor n in range(1,Ks):\n    \n    #Train Model and Predict\n    print (\"Ks = \", n)\n    DT_model = DecisionTreeClassifier(criterion=\"entropy\", max_depth = n)\n    DT_model.fit(X_train,y_train)\n    yhat = DT_model.predict(X_test)\n\n    mean_accDT[n-1] = metrics.accuracy_score(y_test, yhat)\n    mean_jacDT[n-1] = jaccard_similarity_score(y_test, yhat)\n    mean_F1DT[n-1]  = f1_score(y_test, yhat, average='weighted')\n    \nprint (\"Decision Tree Accuracy table: \", mean_accDT)\nprint( \"The best accuracy is\", mean_accDT.max(), \"with k=\", mean_accDT.argmax()+1) \n\nprint (\"Decision Tree Jaccard index table: \", mean_jacDT)\nprint( \"The best Jaccard index is\", mean_jacDT.max(), \"with k=\", mean_jacDT.argmax()+1) \n\nprint (\"Decision Tree F1-score table: \", mean_F1DT)\nprint( \"The best F1-score is\", mean_F1DT.max(), \"with k=\", mean_F1DT.argmax()+1) "
        },
        {
            "cell_type": "markdown",
            "metadata": {},
            "source": "## Support Vector Machine\nUse the LinearSVC because of the large number of samples."
        },
        {
            "cell_type": "code",
            "execution_count": 24,
            "metadata": {},
            "outputs": [
                {
                    "name": "stderr",
                    "output_type": "stream",
                    "text": "/opt/conda/envs/Python36/lib/python3.6/site-packages/sklearn/svm/base.py:931: ConvergenceWarning: Liblinear failed to converge, increase the number of iterations.\n  \"the number of iterations.\", ConvergenceWarning)\n"
                },
                {
                    "data": {
                        "text/plain": "LinearSVC(C=1.0, class_weight=None, dual=True, fit_intercept=True,\n     intercept_scaling=1, loss='squared_hinge', max_iter=1000,\n     multi_class='ovr', penalty='l2', random_state=None, tol=0.0001,\n     verbose=0)"
                    },
                    "execution_count": 24,
                    "metadata": {},
                    "output_type": "execute_result"
                }
            ],
            "source": "from sklearn import svm\nSVM_model = svm.LinearSVC()\nSVM_model.fit(X_train, y_train) "
        },
        {
            "cell_type": "code",
            "execution_count": 25,
            "metadata": {},
            "outputs": [
                {
                    "name": "stdout",
                    "output_type": "stream",
                    "text": "The SVM model accuracy is:  0.6627961119841685\nSVM Jaccard index: 0.66\nSVM F1-score: 0.57\n"
                },
                {
                    "name": "stderr",
                    "output_type": "stream",
                    "text": "/opt/conda/envs/Python36/lib/python3.6/site-packages/sklearn/metrics/classification.py:1143: UndefinedMetricWarning: F-score is ill-defined and being set to 0.0 in labels with no predicted samples.\n  'precision', 'predicted', average, warn_for)\n"
                }
            ],
            "source": "yhat = SVM_model.predict(X_test)\nprint (\"The SVM model accuracy is: \", metrics.accuracy_score(y_test, yhat))\nprint(\"SVM Jaccard index: %.2f\" % jaccard_similarity_score(y_test, yhat))\nprint(\"SVM F1-score: %.2f\" % f1_score(y_test, yhat, average='weighted') )\n"
        },
        {
            "cell_type": "markdown",
            "metadata": {},
            "source": "## Logistic Regression"
        },
        {
            "cell_type": "code",
            "execution_count": 26,
            "metadata": {},
            "outputs": [
                {
                    "name": "stderr",
                    "output_type": "stream",
                    "text": "/opt/conda/envs/Python36/lib/python3.6/site-packages/sklearn/linear_model/logistic.py:433: FutureWarning: Default solver will be changed to 'lbfgs' in 0.22. Specify a solver to silence this warning.\n  FutureWarning)\n/opt/conda/envs/Python36/lib/python3.6/site-packages/sklearn/linear_model/logistic.py:460: FutureWarning: Default multi_class will be changed to 'auto' in 0.22. Specify the multi_class option to silence this warning.\n  \"this warning.\", FutureWarning)\n"
                },
                {
                    "data": {
                        "text/plain": "LogisticRegression(C=0.01, class_weight=None, dual=False, fit_intercept=True,\n          intercept_scaling=1, max_iter=100, multi_class='warn',\n          n_jobs=None, penalty='l2', random_state=None, solver='warn',\n          tol=0.0001, verbose=0, warm_start=False)"
                    },
                    "execution_count": 26,
                    "metadata": {},
                    "output_type": "execute_result"
                }
            ],
            "source": "from sklearn.linear_model import LogisticRegression\nLR_model = LogisticRegression(C=0.01).fit(X_train,y_train)\nLR_model"
        },
        {
            "cell_type": "code",
            "execution_count": 27,
            "metadata": {},
            "outputs": [
                {
                    "name": "stdout",
                    "output_type": "stream",
                    "text": "The LR model accuracy is:  0.6632326407077586\nLR Jaccard index: 0.66\nLR F1-score: 0.57\nLR LogLoss: 0.70\n"
                },
                {
                    "name": "stderr",
                    "output_type": "stream",
                    "text": "/opt/conda/envs/Python36/lib/python3.6/site-packages/sklearn/metrics/classification.py:1143: UndefinedMetricWarning: F-score is ill-defined and being set to 0.0 in labels with no predicted samples.\n  'precision', 'predicted', average, warn_for)\n"
                }
            ],
            "source": "yhat = LR_model.predict(X_test)\nprint (\"The LR model accuracy is: \", metrics.accuracy_score(y_test, yhat))\nyhat_prob = LR_model.predict_proba(X_test)\nprint(\"LR Jaccard index: %.2f\" % jaccard_similarity_score(y_test, yhat))\nprint(\"LR F1-score: %.2f\" % f1_score(y_test, yhat, average='weighted') )\nprint(\"LR LogLoss: %.2f\" % log_loss(y_test, yhat_prob))"
        },
        {
            "cell_type": "markdown",
            "metadata": {},
            "source": "## Results and Discussion <a name=\"results\"></a>"
        },
        {
            "cell_type": "markdown",
            "metadata": {},
            "source": "## Conclusion <a name=\"conclusion\"></a>"
        }
    ],
    "metadata": {
        "kernelspec": {
            "display_name": "Python 3.6",
            "language": "python",
            "name": "python3"
        },
        "language_info": {
            "codemirror_mode": {
                "name": "ipython",
                "version": 3
            },
            "file_extension": ".py",
            "mimetype": "text/x-python",
            "name": "python",
            "nbconvert_exporter": "python",
            "pygments_lexer": "ipython3",
            "version": "3.6.9"
        }
    },
    "nbformat": 4,
    "nbformat_minor": 1
}