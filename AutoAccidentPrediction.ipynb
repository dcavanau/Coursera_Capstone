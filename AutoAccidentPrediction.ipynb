{
    "cells": [
        {
            "cell_type": "markdown",
            "metadata": {
                "collapsed": true
            },
            "source": "# Capstone Project - Auto Accident Prediction (Week 2)\n## Applied Data Science Capstone by IBM/Coursera\n\nThis notebook will be used for the Applied Data Science Capstone project"
        },
        {
            "cell_type": "markdown",
            "metadata": {},
            "source": "## Table of contents\n* [Introduction: Business Problem](#introduction)\n* [Data](#data)\n* [Methodology](#methodology)\n* [Analysis](#analysis)\n* [Results and Discussion](#results)\n* [Conclusion](#conclusion)"
        },
        {
            "cell_type": "markdown",
            "metadata": {},
            "source": "## Introduction: Business Problem <a name=\"introduction\"></a>"
        },
        {
            "cell_type": "markdown",
            "metadata": {},
            "source": "Say you are driving to another city for work or to visit some friends. It is rainy and windy. On the way to your destination, you come across a terrible traffic jam on the other side of the highway. Long lines of cars are barely moving. As you keep driving, police car start appearing from afar, shutting down the highway. There is an accident and a helicopter is transporting the ones involved in the crash to the nearest hospital. The victems must be in critical condition for all of this to be happening.\n \nNow, wouldn't it be great if there is something in place that could warn you, given the weather and the road conditions, about the possibility of you getting into a car accident and how severe it would be.  The advance warning could prompt you to  drive more carefully or even change your travel plans if you are able to."
        },
        {
            "cell_type": "markdown",
            "metadata": {},
            "source": "## Data <a name=\"data\"></a>"
        },
        {
            "cell_type": "markdown",
            "metadata": {},
            "source": "Load the required libraries"
        },
        {
            "cell_type": "code",
            "execution_count": 1,
            "metadata": {},
            "outputs": [],
            "source": "import itertools\nimport numpy as np\nimport matplotlib.pyplot as plt\nfrom matplotlib.ticker import NullFormatter\nimport pandas as pd\nimport numpy as np\nimport matplotlib.ticker as ticker\nfrom sklearn import preprocessing\nfrom sklearn.model_selection import train_test_split\nfrom sklearn.neighbors import KNeighborsClassifier\nfrom sklearn import metrics\nfrom sklearn.metrics import jaccard_similarity_score\nfrom sklearn.metrics import f1_score\nfrom sklearn.metrics import log_loss\n%matplotlib inline"
        },
        {
            "cell_type": "markdown",
            "metadata": {},
            "source": "### Retrieve The Dataset\nThe data used to train and evaluate the model is the collision data set from the SDOT Traffic Management Division, Traffic Records Group. The data set is updated weekly from 2004 to the present. The data set is compiled from all collisions provided by the Seattle Police department and recorded by the Traffic Records Group.\n\n\nDownload the current collision data from <a name=Seattle Geo Data>http://data-seattlecitygis.opendata.arcgis.com</a>"
        },
        {
            "cell_type": "code",
            "execution_count": 2,
            "metadata": {},
            "outputs": [
                {
                    "name": "stdout",
                    "output_type": "stream",
                    "text": "--2020-09-03 20:51:37--  https://opendata.arcgis.com/datasets/5b5c745e0f1f48e7a53acec63a0022ab_0.csv\nResolving opendata.arcgis.com (opendata.arcgis.com)... 34.235.215.225, 34.196.73.37, 3.222.165.155, ...\nConnecting to opendata.arcgis.com (opendata.arcgis.com)|34.235.215.225|:443... connected.\nHTTP request sent, awaiting response... 200 OK\nLength: unspecified [text/csv]\nSaving to: \u2018Collisions.csv\u2019\n\n    [       <=>                             ] 84,814,898  59.5MB/s   in 1.4s   \n\n2020-09-03 20:51:39 (59.5 MB/s) - \u2018Collisions.csv\u2019 saved [84814898]\n\n"
                }
            ],
            "source": "!wget -O Collisions.csv https://opendata.arcgis.com/datasets/5b5c745e0f1f48e7a53acec63a0022ab_0.csv"
        },
        {
            "cell_type": "markdown",
            "metadata": {},
            "source": "### Load Data from CSV file\nThe data has unlabeled extra columns, which will cause an error if not accounted for. The _OBJECTID_ is used as the index for this dataset."
        },
        {
            "cell_type": "code",
            "execution_count": 3,
            "metadata": {
                "scrolled": true
            },
            "outputs": [
                {
                    "data": {
                        "text/html": "<div>\n<style scoped>\n    .dataframe tbody tr th:only-of-type {\n        vertical-align: middle;\n    }\n\n    .dataframe tbody tr th {\n        vertical-align: top;\n    }\n\n    .dataframe thead th {\n        text-align: right;\n    }\n</style>\n<table border=\"1\" class=\"dataframe\">\n  <thead>\n    <tr style=\"text-align: right;\">\n      <th></th>\n      <th>X</th>\n      <th>Y</th>\n      <th>INCKEY</th>\n      <th>COLDETKEY</th>\n      <th>REPORTNO</th>\n      <th>STATUS</th>\n      <th>ADDRTYPE</th>\n      <th>INTKEY</th>\n      <th>LOCATION</th>\n      <th>EXCEPTRSNCODE</th>\n      <th>...</th>\n      <th>ROADCOND</th>\n      <th>LIGHTCOND</th>\n      <th>PEDROWNOTGRNT</th>\n      <th>SDOTCOLNUM</th>\n      <th>SPEEDING</th>\n      <th>ST_COLCODE</th>\n      <th>ST_COLDESC</th>\n      <th>SEGLANEKEY</th>\n      <th>CROSSWALKKEY</th>\n      <th>HITPARKEDCAR</th>\n    </tr>\n    <tr>\n      <th>OBJECTID</th>\n      <th></th>\n      <th></th>\n      <th></th>\n      <th></th>\n      <th></th>\n      <th></th>\n      <th></th>\n      <th></th>\n      <th></th>\n      <th></th>\n      <th></th>\n      <th></th>\n      <th></th>\n      <th></th>\n      <th></th>\n      <th></th>\n      <th></th>\n      <th></th>\n      <th></th>\n      <th></th>\n      <th></th>\n    </tr>\n  </thead>\n  <tbody>\n    <tr>\n      <th>1</th>\n      <td>-122.288688</td>\n      <td>47.532714</td>\n      <td>29800</td>\n      <td>29800</td>\n      <td>1177964</td>\n      <td>Unmatched</td>\n      <td>Block</td>\n      <td>NaN</td>\n      <td>BEACON ER AVE S BETWEEN S PORTLAND ST AND S CH...</td>\n      <td>NaN</td>\n      <td>...</td>\n      <td>NaN</td>\n      <td>NaN</td>\n      <td>NaN</td>\n      <td>4315006.0</td>\n      <td>NaN</td>\n      <td>NaN</td>\n      <td>NaN</td>\n      <td>0</td>\n      <td>0</td>\n      <td>N</td>\n    </tr>\n    <tr>\n      <th>2</th>\n      <td>NaN</td>\n      <td>NaN</td>\n      <td>115700</td>\n      <td>115700</td>\n      <td>10097005</td>\n      <td>Unmatched</td>\n      <td>NaN</td>\n      <td>NaN</td>\n      <td>NaN</td>\n      <td>NEI</td>\n      <td>...</td>\n      <td>NaN</td>\n      <td>NaN</td>\n      <td>NaN</td>\n      <td>10097005.0</td>\n      <td>NaN</td>\n      <td>NaN</td>\n      <td>NaN</td>\n      <td>0</td>\n      <td>0</td>\n      <td>N</td>\n    </tr>\n    <tr>\n      <th>3</th>\n      <td>-122.355556</td>\n      <td>47.727318</td>\n      <td>1358</td>\n      <td>1358</td>\n      <td>3568600</td>\n      <td>Matched</td>\n      <td>Block</td>\n      <td>NaN</td>\n      <td>GREENWOOD AVE N BETWEEN N 134TH ST AND N 136TH ST</td>\n      <td></td>\n      <td>...</td>\n      <td>Dry</td>\n      <td>Daylight</td>\n      <td>NaN</td>\n      <td>NaN</td>\n      <td>NaN</td>\n      <td>28</td>\n      <td>From opposite direction - one left turn - one ...</td>\n      <td>0</td>\n      <td>0</td>\n      <td>N</td>\n    </tr>\n    <tr>\n      <th>4</th>\n      <td>-122.317563</td>\n      <td>47.618764</td>\n      <td>70700</td>\n      <td>70700</td>\n      <td>2806057</td>\n      <td>Matched</td>\n      <td>Block</td>\n      <td>NaN</td>\n      <td>E DENNY WAY BETWEEN 11TH AVE AND 12TH AVE</td>\n      <td>NaN</td>\n      <td>...</td>\n      <td>Dry</td>\n      <td>Other</td>\n      <td>NaN</td>\n      <td>7065007.0</td>\n      <td>NaN</td>\n      <td>32</td>\n      <td>One parked--one moving</td>\n      <td>0</td>\n      <td>0</td>\n      <td>N</td>\n    </tr>\n    <tr>\n      <th>5</th>\n      <td>-122.361015</td>\n      <td>47.538551</td>\n      <td>53600</td>\n      <td>53600</td>\n      <td>2127310</td>\n      <td>Matched</td>\n      <td>Block</td>\n      <td>NaN</td>\n      <td>DELRIDGE WAY SW BETWEEN SW MYRTLE ST AND SW OR...</td>\n      <td>NaN</td>\n      <td>...</td>\n      <td>Dry</td>\n      <td>Daylight</td>\n      <td>NaN</td>\n      <td>6137017.0</td>\n      <td>NaN</td>\n      <td>14</td>\n      <td>From same direction - both going straight - on...</td>\n      <td>0</td>\n      <td>0</td>\n      <td>N</td>\n    </tr>\n  </tbody>\n</table>\n<p>5 rows \u00d7 39 columns</p>\n</div>",
                        "text/plain": "                   X          Y  INCKEY  COLDETKEY  REPORTNO     STATUS  \\\nOBJECTID                                                                  \n1        -122.288688  47.532714   29800      29800   1177964  Unmatched   \n2                NaN        NaN  115700     115700  10097005  Unmatched   \n3        -122.355556  47.727318    1358       1358   3568600    Matched   \n4        -122.317563  47.618764   70700      70700   2806057    Matched   \n5        -122.361015  47.538551   53600      53600   2127310    Matched   \n\n         ADDRTYPE  INTKEY                                           LOCATION  \\\nOBJECTID                                                                       \n1           Block     NaN  BEACON ER AVE S BETWEEN S PORTLAND ST AND S CH...   \n2             NaN     NaN                                                NaN   \n3           Block     NaN  GREENWOOD AVE N BETWEEN N 134TH ST AND N 136TH ST   \n4           Block     NaN          E DENNY WAY BETWEEN 11TH AVE AND 12TH AVE   \n5           Block     NaN  DELRIDGE WAY SW BETWEEN SW MYRTLE ST AND SW OR...   \n\n         EXCEPTRSNCODE  ... ROADCOND LIGHTCOND PEDROWNOTGRNT  SDOTCOLNUM  \\\nOBJECTID                ...                                                \n1                  NaN  ...      NaN       NaN           NaN   4315006.0   \n2                  NEI  ...      NaN       NaN           NaN  10097005.0   \n3                       ...      Dry  Daylight           NaN         NaN   \n4                  NaN  ...      Dry     Other           NaN   7065007.0   \n5                  NaN  ...      Dry  Daylight           NaN   6137017.0   \n\n          SPEEDING  ST_COLCODE  \\\nOBJECTID                         \n1              NaN         NaN   \n2              NaN         NaN   \n3              NaN          28   \n4              NaN          32   \n5              NaN          14   \n\n                                                 ST_COLDESC  SEGLANEKEY  \\\nOBJECTID                                                                  \n1                                                       NaN           0   \n2                                                       NaN           0   \n3         From opposite direction - one left turn - one ...           0   \n4                                    One parked--one moving           0   \n5         From same direction - both going straight - on...           0   \n\n          CROSSWALKKEY  HITPARKEDCAR  \nOBJECTID                              \n1                    0             N  \n2                    0             N  \n3                    0             N  \n4                    0             N  \n5                    0             N  \n\n[5 rows x 39 columns]"
                    },
                    "execution_count": 3,
                    "metadata": {},
                    "output_type": "execute_result"
                }
            ],
            "source": "cols = pd.read_csv('Collisions.csv', nrows=1).columns\ndf = pd.read_csv('Collisions.csv', usecols=cols, index_col=2)\ndf.head()"
        },
        {
            "cell_type": "markdown",
            "metadata": {},
            "source": "### Preprocess The Data\n\nNormalize the data and fill in missing values where it makes sense. Display the frequency tables for various features to helpdetermine which features to use."
        },
        {
            "cell_type": "code",
            "execution_count": 4,
            "metadata": {
                "scrolled": true
            },
            "outputs": [
                {
                    "name": "stdout",
                    "output_type": "stream",
                    "text": "\nAddress Type:\n Block           144784\nIntersection     71774\nUnknown           3712\nAlley              874\nName: ADDRTYPE, dtype: int64\n\nWeather:\n Clear                       114342\nUnknown                      41724\nRaining                      34019\nOvercast                     28504\nSnowing                        919\nOther                          851\nFog/Smog/Smoke                 577\nSleet/Hail/Freezing Rain       116\nBlowing Sand/Dirt               56\nSevere Crosswind                26\nPartly Cloudy                    9\nBlowing Snow                     1\nName: WEATHER, dtype: int64\n\nLight Conditions:\n Daylight                    119149\nDark - Street Lights On      50048\nUnknown                      40201\nDusk                          6074\nDawn                          2599\nDark - No Street Lights       1573\nDark - Street Lights Off      1236\nOther                          244\nDark - Unknown Lighting         20\nName: LIGHTCOND, dtype: int64\n\nRoad Conditions:\n Dry               128150\nWet                48711\nUnknown            41642\nIce                 1231\nSnow/Slush          1014\nOther                136\nStanding Water       119\nSand/Mud/Dirt         77\nOil                   64\nName: ROADCOND, dtype: int64\n\nJunction Type:\n Mid-Block (not related to intersection)              101523\nAt Intersection (intersection related)                69068\nMid-Block (but intersection related)                  24392\nUnknown                                               11983\nDriveway Junction                                     11493\nAt Intersection (but not related to intersection)      2495\nRamp Junction                                           190\nName: JUNCTIONTYPE, dtype: int64\n\nInattention Indicator:\n N    190956\nY     30188\nName: INATTENTIONIND, dtype: int64\n\nUnder Influence:\n N    211515\nY      9629\nName: UNDERINFL, dtype: int64\n\nPedestrian Not Granted:\n N    215956\nY      5188\nName: PEDROWNOTGRNT, dtype: int64\n\nSpeeding:\n N    211232\nY      9912\nName: SPEEDING, dtype: int64\n\nHit Parked Car:\n N    209193\nY     11951\nName: HITPARKEDCAR, dtype: int64\n\nSeverity Code:\n 1     137414\n2      58665\n0      21619\n2b      3096\n3        349\nName: SEVERITYCODE, dtype: int64\n"
                }
            ],
            "source": "df['ADDRTYPE'] = df['ADDRTYPE'].fillna('Unknown')\nprint(\"\\nAddress Type:\\n\", df['ADDRTYPE'].value_counts())\n\ndf['WEATHER'] = df['WEATHER'].fillna('Unknown')\nprint(\"\\nWeather:\\n\", df['WEATHER'].value_counts())\n\ndf['LIGHTCOND'] = df['LIGHTCOND'].fillna('Unknown')\nprint(\"\\nLight Conditions:\\n\", df['LIGHTCOND'].value_counts())\n\ndf['ROADCOND'] = df['ROADCOND'].fillna('Unknown')\nprint(\"\\nRoad Conditions:\\n\", df['ROADCOND'].value_counts())\n\ndf['JUNCTIONTYPE'] = df['JUNCTIONTYPE'].fillna('Unknown')\nprint(\"\\nJunction Type:\\n\", df['JUNCTIONTYPE'].value_counts())\n\n# treat an blank record as N\ndf['INATTENTIONIND'] = df['INATTENTIONIND'].fillna('N')\nprint(\"\\nInattention Indicator:\\n\", df['INATTENTIONIND'].value_counts())\n\n# treat an blank record as N, a 0 as N and 1 as Y\ndf['UNDERINFL'] = df['UNDERINFL'].fillna('N')\ndf['UNDERINFL'] = df['UNDERINFL'].replace(['0','1'],['N','Y'])\nprint(\"\\nUnder Influence:\\n\", df['UNDERINFL'].value_counts())\n\n# treat an blank record as N, a 0 as N and 1 as Y\ndf['PEDROWNOTGRNT'] = df['PEDROWNOTGRNT'].fillna('N')\ndf['PEDROWNOTGRNT'] = df['PEDROWNOTGRNT'].replace(['0','1'],['N','Y'])\nprint(\"\\nPedestrian Not Granted:\\n\", df['PEDROWNOTGRNT'].value_counts())\n\n# treat an blank record as N, a 0 as N and 1 as Y\ndf['SPEEDING'] = df['SPEEDING'].fillna('N')\ndf['SPEEDING'] = df['SPEEDING'].replace(['0','1'],['N','Y'])\nprint(\"\\nSpeeding:\\n\", df['SPEEDING'].value_counts())\n\nprint(\"\\nHit Parked Car:\\n\", df['HITPARKEDCAR'].value_counts())\n\nprint(\"\\nSeverity Code:\\n\", df['SEVERITYCODE'].value_counts())\n"
        },
        {
            "cell_type": "markdown",
            "metadata": {},
            "source": "### Assess The Features To Use"
        },
        {
            "cell_type": "markdown",
            "metadata": {},
            "source": "Remove rows where where the value is _Unknown_."
        },
        {
            "cell_type": "code",
            "execution_count": null,
            "metadata": {},
            "outputs": [
                {
                    "name": "stdout",
                    "output_type": "stream",
                    "text": "Rows before cleaning:  (221144, 39)\nRows after cleaning:  (174631, 39)\n"
                }
            ],
            "source": "print(\"Rows before cleaning: \", df.shape)\ndf = df[~df['ADDRTYPE'].isin(['Unknown'])]\ndf = df[~df['WEATHER'].isin(['Unknown'])]\ndf = df[~df['LIGHTCOND'].isin(['Unknown'])]\ndf = df[~df['ROADCOND'].isin(['Unknown'])]\ndf = df[~df['SEVERITYDESC'].isin(['Unknown'])]\nprint (\"Rows after cleaning: \", df.shape)"
        },
        {
            "cell_type": "markdown",
            "metadata": {},
            "source": "Remove unneeded columns/features"
        },
        {
            "cell_type": "code",
            "execution_count": null,
            "metadata": {},
            "outputs": [
                {
                    "data": {
                        "text/html": "<div>\n<style scoped>\n    .dataframe tbody tr th:only-of-type {\n        vertical-align: middle;\n    }\n\n    .dataframe tbody tr th {\n        vertical-align: top;\n    }\n\n    .dataframe thead th {\n        text-align: right;\n    }\n</style>\n<table border=\"1\" class=\"dataframe\">\n  <thead>\n    <tr style=\"text-align: right;\">\n      <th></th>\n      <th>X</th>\n      <th>Y</th>\n      <th>SEVERITYDESC</th>\n      <th>PERSONCOUNT</th>\n      <th>VEHCOUNT</th>\n      <th>WEATHER</th>\n      <th>ROADCOND</th>\n      <th>LIGHTCOND</th>\n    </tr>\n    <tr>\n      <th>OBJECTID</th>\n      <th></th>\n      <th></th>\n      <th></th>\n      <th></th>\n      <th></th>\n      <th></th>\n      <th></th>\n      <th></th>\n    </tr>\n  </thead>\n  <tbody>\n    <tr>\n      <th>3</th>\n      <td>-122.355556</td>\n      <td>47.727318</td>\n      <td>Property Damage Only Collision</td>\n      <td>2</td>\n      <td>2</td>\n      <td>Overcast</td>\n      <td>Dry</td>\n      <td>Daylight</td>\n    </tr>\n    <tr>\n      <th>4</th>\n      <td>-122.317563</td>\n      <td>47.618764</td>\n      <td>Property Damage Only Collision</td>\n      <td>2</td>\n      <td>2</td>\n      <td>Clear</td>\n      <td>Dry</td>\n      <td>Other</td>\n    </tr>\n    <tr>\n      <th>5</th>\n      <td>-122.361015</td>\n      <td>47.538551</td>\n      <td>Property Damage Only Collision</td>\n      <td>2</td>\n      <td>2</td>\n      <td>Clear</td>\n      <td>Dry</td>\n      <td>Daylight</td>\n    </tr>\n    <tr>\n      <th>6</th>\n      <td>-122.386772</td>\n      <td>47.564720</td>\n      <td>Injury Collision</td>\n      <td>4</td>\n      <td>2</td>\n      <td>Clear</td>\n      <td>Dry</td>\n      <td>Daylight</td>\n    </tr>\n    <tr>\n      <th>7</th>\n      <td>-122.365869</td>\n      <td>47.525967</td>\n      <td>Property Damage Only Collision</td>\n      <td>2</td>\n      <td>2</td>\n      <td>Clear</td>\n      <td>Dry</td>\n      <td>Dark - Street Lights On</td>\n    </tr>\n  </tbody>\n</table>\n</div>",
                        "text/plain": "                   X          Y                    SEVERITYDESC  PERSONCOUNT  \\\nOBJECTID                                                                       \n3        -122.355556  47.727318  Property Damage Only Collision            2   \n4        -122.317563  47.618764  Property Damage Only Collision            2   \n5        -122.361015  47.538551  Property Damage Only Collision            2   \n6        -122.386772  47.564720                Injury Collision            4   \n7        -122.365869  47.525967  Property Damage Only Collision            2   \n\n          VEHCOUNT   WEATHER ROADCOND                LIGHTCOND  \nOBJECTID                                                        \n3                2  Overcast      Dry                 Daylight  \n4                2     Clear      Dry                    Other  \n5                2     Clear      Dry                 Daylight  \n6                2     Clear      Dry                 Daylight  \n7                2     Clear      Dry  Dark - Street Lights On  "
                    },
                    "execution_count": 6,
                    "metadata": {},
                    "output_type": "execute_result"
                }
            ],
            "source": "df.drop(inplace=True, columns=['INCKEY', 'COLDETKEY','REPORTNO', 'STATUS', 'ADDRTYPE', 'INTKEY', 'LOCATION', 'EXCEPTRSNCODE', 'EXCEPTRSNDESC', 'SEVERITYCODE', 'COLLISIONTYPE', 'PEDCOUNT', 'PEDCYLCOUNT', 'INJURIES', 'SERIOUSINJURIES', 'FATALITIES', 'INCDATE', 'INCDTTM', 'JUNCTIONTYPE', 'SDOT_COLCODE', 'SDOT_COLDESC', 'INATTENTIONIND', 'UNDERINFL', 'PEDROWNOTGRNT', 'SDOTCOLNUM', 'SPEEDING', 'ST_COLCODE', 'ST_COLDESC', 'SEGLANEKEY', 'CROSSWALKKEY', 'HITPARKEDCAR'])\ndf.head()\n"
        },
        {
            "cell_type": "code",
            "execution_count": null,
            "metadata": {},
            "outputs": [
                {
                    "data": {
                        "text/plain": "(174631, 8)"
                    },
                    "execution_count": 7,
                    "metadata": {},
                    "output_type": "execute_result"
                }
            ],
            "source": "df.shape"
        },
        {
            "cell_type": "markdown",
            "metadata": {},
            "source": "### Convert Categorical Features to Numeric Values"
        },
        {
            "cell_type": "code",
            "execution_count": null,
            "metadata": {},
            "outputs": [
                {
                    "data": {
                        "text/html": "<div>\n<style scoped>\n    .dataframe tbody tr th:only-of-type {\n        vertical-align: middle;\n    }\n\n    .dataframe tbody tr th {\n        vertical-align: top;\n    }\n\n    .dataframe thead th {\n        text-align: right;\n    }\n</style>\n<table border=\"1\" class=\"dataframe\">\n  <thead>\n    <tr style=\"text-align: right;\">\n      <th></th>\n      <th>PERSONCOUNT</th>\n      <th>VEHCOUNT</th>\n      <th>Blowing Sand/Dirt</th>\n      <th>Clear</th>\n      <th>Fog/Smog/Smoke</th>\n      <th>Other</th>\n      <th>Overcast</th>\n      <th>Partly Cloudy</th>\n      <th>Raining</th>\n      <th>Severe Crosswind</th>\n      <th>...</th>\n      <th>Standing Water</th>\n      <th>Wet</th>\n      <th>Dark - No Street Lights</th>\n      <th>Dark - Street Lights Off</th>\n      <th>Dark - Street Lights On</th>\n      <th>Dark - Unknown Lighting</th>\n      <th>Dawn</th>\n      <th>Daylight</th>\n      <th>Dusk</th>\n      <th>Other</th>\n    </tr>\n    <tr>\n      <th>OBJECTID</th>\n      <th></th>\n      <th></th>\n      <th></th>\n      <th></th>\n      <th></th>\n      <th></th>\n      <th></th>\n      <th></th>\n      <th></th>\n      <th></th>\n      <th></th>\n      <th></th>\n      <th></th>\n      <th></th>\n      <th></th>\n      <th></th>\n      <th></th>\n      <th></th>\n      <th></th>\n      <th></th>\n      <th></th>\n    </tr>\n  </thead>\n  <tbody>\n    <tr>\n      <th>3</th>\n      <td>2</td>\n      <td>2</td>\n      <td>0</td>\n      <td>0</td>\n      <td>0</td>\n      <td>0</td>\n      <td>1</td>\n      <td>0</td>\n      <td>0</td>\n      <td>0</td>\n      <td>...</td>\n      <td>0</td>\n      <td>0</td>\n      <td>0</td>\n      <td>0</td>\n      <td>0</td>\n      <td>0</td>\n      <td>0</td>\n      <td>1</td>\n      <td>0</td>\n      <td>0</td>\n    </tr>\n    <tr>\n      <th>4</th>\n      <td>2</td>\n      <td>2</td>\n      <td>0</td>\n      <td>1</td>\n      <td>0</td>\n      <td>0</td>\n      <td>0</td>\n      <td>0</td>\n      <td>0</td>\n      <td>0</td>\n      <td>...</td>\n      <td>0</td>\n      <td>0</td>\n      <td>0</td>\n      <td>0</td>\n      <td>0</td>\n      <td>0</td>\n      <td>0</td>\n      <td>0</td>\n      <td>0</td>\n      <td>1</td>\n    </tr>\n    <tr>\n      <th>5</th>\n      <td>2</td>\n      <td>2</td>\n      <td>0</td>\n      <td>1</td>\n      <td>0</td>\n      <td>0</td>\n      <td>0</td>\n      <td>0</td>\n      <td>0</td>\n      <td>0</td>\n      <td>...</td>\n      <td>0</td>\n      <td>0</td>\n      <td>0</td>\n      <td>0</td>\n      <td>0</td>\n      <td>0</td>\n      <td>0</td>\n      <td>1</td>\n      <td>0</td>\n      <td>0</td>\n    </tr>\n    <tr>\n      <th>6</th>\n      <td>4</td>\n      <td>2</td>\n      <td>0</td>\n      <td>1</td>\n      <td>0</td>\n      <td>0</td>\n      <td>0</td>\n      <td>0</td>\n      <td>0</td>\n      <td>0</td>\n      <td>...</td>\n      <td>0</td>\n      <td>0</td>\n      <td>0</td>\n      <td>0</td>\n      <td>0</td>\n      <td>0</td>\n      <td>0</td>\n      <td>1</td>\n      <td>0</td>\n      <td>0</td>\n    </tr>\n    <tr>\n      <th>7</th>\n      <td>2</td>\n      <td>2</td>\n      <td>0</td>\n      <td>1</td>\n      <td>0</td>\n      <td>0</td>\n      <td>0</td>\n      <td>0</td>\n      <td>0</td>\n      <td>0</td>\n      <td>...</td>\n      <td>0</td>\n      <td>0</td>\n      <td>0</td>\n      <td>0</td>\n      <td>1</td>\n      <td>0</td>\n      <td>0</td>\n      <td>0</td>\n      <td>0</td>\n      <td>0</td>\n    </tr>\n  </tbody>\n</table>\n<p>5 rows \u00d7 28 columns</p>\n</div>",
                        "text/plain": "          PERSONCOUNT  VEHCOUNT  Blowing Sand/Dirt  Clear  Fog/Smog/Smoke  \\\nOBJECTID                                                                    \n3                   2         2                  0      0               0   \n4                   2         2                  0      1               0   \n5                   2         2                  0      1               0   \n6                   4         2                  0      1               0   \n7                   2         2                  0      1               0   \n\n          Other  Overcast  Partly Cloudy  Raining  Severe Crosswind  ...  \\\nOBJECTID                                                             ...   \n3             0         1              0        0                 0  ...   \n4             0         0              0        0                 0  ...   \n5             0         0              0        0                 0  ...   \n6             0         0              0        0                 0  ...   \n7             0         0              0        0                 0  ...   \n\n          Standing Water  Wet  Dark - No Street Lights  \\\nOBJECTID                                                 \n3                      0    0                        0   \n4                      0    0                        0   \n5                      0    0                        0   \n6                      0    0                        0   \n7                      0    0                        0   \n\n          Dark - Street Lights Off  Dark - Street Lights On  \\\nOBJECTID                                                      \n3                                0                        0   \n4                                0                        0   \n5                                0                        0   \n6                                0                        0   \n7                                0                        1   \n\n          Dark - Unknown Lighting  Dawn  Daylight  Dusk  Other  \nOBJECTID                                                        \n3                               0     0         1     0      0  \n4                               0     0         0     0      1  \n5                               0     0         1     0      0  \n6                               0     0         1     0      0  \n7                               0     0         0     0      0  \n\n[5 rows x 28 columns]"
                    },
                    "execution_count": 8,
                    "metadata": {},
                    "output_type": "execute_result"
                }
            ],
            "source": "Feature = df[['PERSONCOUNT','VEHCOUNT']]\n# do One Hot Encoding\nFeature = pd.concat([Feature,pd.get_dummies(df['WEATHER'])], axis=1)\nFeature = pd.concat([Feature,pd.get_dummies(df['ROADCOND'])], axis=1)\nFeature = pd.concat([Feature,pd.get_dummies(df['LIGHTCOND'])], axis=1)\nFeature.head()"
        },
        {
            "cell_type": "code",
            "execution_count": null,
            "metadata": {},
            "outputs": [
                {
                    "name": "stderr",
                    "output_type": "stream",
                    "text": "/opt/conda/envs/Python36/lib/python3.6/site-packages/sklearn/preprocessing/data.py:645: DataConversionWarning: Data with input dtype uint8, int64 were all converted to float64 by StandardScaler.\n  return self.partial_fit(X, y)\n/opt/conda/envs/Python36/lib/python3.6/site-packages/ipykernel/__main__.py:4: DataConversionWarning: Data with input dtype uint8, int64 were all converted to float64 by StandardScaler.\n"
                },
                {
                    "name": "stdout",
                    "output_type": "stream",
                    "text": "Train set: (139704, 28) (139704,)\nTest set: (34927, 28) (34927,)\n"
                }
            ],
            "source": "X = Feature\ny = df['SEVERITYDESC'].values\n\nX= preprocessing.StandardScaler().fit(X).transform(X)\n\nX_train, X_test, y_train, y_test = train_test_split( X, y, test_size=0.2, random_state=4)\nprint ('Train set:', X_train.shape,  y_train.shape)\nprint ('Test set:', X_test.shape,  y_test.shape)"
        },
        {
            "cell_type": "markdown",
            "metadata": {},
            "source": "## Methodology <a name=\"methodology\"></a>"
        },
        {
            "cell_type": "markdown",
            "metadata": {},
            "source": "## K Nearest Neighbor (KNN)"
        },
        {
            "cell_type": "code",
            "execution_count": null,
            "metadata": {
                "scrolled": true
            },
            "outputs": [
                {
                    "name": "stdout",
                    "output_type": "stream",
                    "text": "Ks =  1\nKs =  2\nKs =  3\n"
                }
            ],
            "source": "Ks = 10\nmean_accKNN = np.zeros((Ks-1))\nmean_jacKNN = np.zeros((Ks-1))\nmean_F1KNN  = np.zeros((Ks-1))\nfor n in range(1,Ks):\n    \n    #Train Model and Predict\n    print (\"Ks = \", n)\n    neigh = KNeighborsClassifier(n_neighbors=n, n_jobs=1, weights='distance').fit(X_train,y_train)\n    yhat=neigh.predict(X_test)\n\n    mean_accKNN[n-1] = metrics.accuracy_score(y_test, yhat)\n    mean_jacKNN[n-1] = jaccard_similarity_score(y_test, yhat)\n    mean_F1KNN[n-1]  = f1_score(y_test, yhat, average='weighted')\n    \nprint (\"KNN Accuracy table: \", mean_accKNN)\nprint( \"The best accuracy is\", mean_accKNN.max(), \"with k=\", mean_accKNN.argmax()+1) \n\nprint (\"KNN Jaccard index table: \", mean_jacKNN)\nprint( \"The best Jaccard index is\", mean_jacKNN.max(), \"with k=\", mean_jacKNN.argmax()+1) \n\nprint (\"KNN F1-score table: \", mean_F1KNN)\nprint( \"The best F1-score is\", mean_F1KNN.max(), \"with k=\", mean_F1KNN.argmax()+1) "
        },
        {
            "cell_type": "code",
            "execution_count": null,
            "metadata": {},
            "outputs": [],
            "source": "from sklearn.tree import DecisionTreeClassifier\nDT_model = DecisionTreeClassifier(criterion=\"entropy\", max_depth = 10)\nDT_model.fit(X_train,y_train)\nDT_model\n\nKs = 10\nmean_accDT = np.zeros((Ks-1))\nmean_jacDT = np.zeros((Ks-1))\nmean_F1DT  = np.zeros((Ks-1))\n\nfor n in range(1,Ks):\n    \n    #Train Model and Predict\n    print (\"Ks = \", n)\n    DT_model = DecisionTreeClassifier(criterion=\"entropy\", max_depth = n)\n    DT_model.fit(X_train,y_train)\n    yhat = DT_model.predict(X_test)\n\n    mean_accDT[n-1] = metrics.accuracy_score(y_test, yhat)\n    mean_jacDT[n-1] = jaccard_similarity_score(y_test, yhat)\n    mean_F1DT[n-1]  = f1_score(y_test, yhat, average='weighted')\n    \nprint (\"Decision Tree Accuracy table: \", mean_accDT)\nprint( \"The best accuracy is\", mean_accDT.max(), \"with k=\", mean_accDT.argmax()+1) \n\nprint (\"Decision Tree Jaccard index table: \", mean_jacDT)\nprint( \"The best Jaccard index is\", mean_jacDT.max(), \"with k=\", mean_jacDT.argmax()+1) \n\nprint (\"Decision Tree F1-score table: \", mean_F1DT)\nprint( \"The best F1-score is\", mean_F1DT.max(), \"with k=\", mean_F1DT.argmax()+1) "
        },
        {
            "cell_type": "code",
            "execution_count": null,
            "metadata": {},
            "outputs": [],
            "source": "from sklearn import svm\nSVM_model = svm.SVC()\nSVM_model.fit(X_train, y_train) "
        },
        {
            "cell_type": "code",
            "execution_count": null,
            "metadata": {},
            "outputs": [],
            "source": "yhat = SVM_model.predict(X_test)\nprint (\"The SVM model accuracy is: \", metrics.accuracy_score(y_test, yhat))\nprint(\"SVM Jaccard index: %.2f\" % jaccard_similarity_score(y_test, yhat))\nprint(\"SVM F1-score: %.2f\" % f1_score(y_test, yhat, average='weighted') )\n"
        },
        {
            "cell_type": "code",
            "execution_count": null,
            "metadata": {},
            "outputs": [],
            "source": "from sklearn.linear_model import LogisticRegression\nLR_model = LogisticRegression(C=0.01).fit(X_train,y_train)\nLR_model"
        },
        {
            "cell_type": "code",
            "execution_count": null,
            "metadata": {},
            "outputs": [],
            "source": "yhat = LR_model.predict(X_test)\nprint (\"The LR model accuracy is: \", metrics.accuracy_score(y_test, yhat))\nyhat_prob = LR_model.predict_proba(X_test)\nprint(\"LR Jaccard index: %.2f\" % jaccard_similarity_score(y_test, yhat))\nprint(\"LR F1-score: %.2f\" % f1_score(y_test, yhat, average='weighted') )\nprint(\"LR LogLoss: %.2f\" % log_loss(y_test, yhat_prob))"
        },
        {
            "cell_type": "markdown",
            "metadata": {},
            "source": "## Analysis <a name=\"analysis\"></a>"
        },
        {
            "cell_type": "markdown",
            "metadata": {},
            "source": "## Results and Discussion <a name=\"results\"></a>"
        },
        {
            "cell_type": "markdown",
            "metadata": {},
            "source": "## Conclusion <a name=\"conclusion\"></a>"
        }
    ],
    "metadata": {
        "kernelspec": {
            "display_name": "Python 3.6",
            "language": "python",
            "name": "python3"
        },
        "language_info": {
            "codemirror_mode": {
                "name": "ipython",
                "version": 3
            },
            "file_extension": ".py",
            "mimetype": "text/x-python",
            "name": "python",
            "nbconvert_exporter": "python",
            "pygments_lexer": "ipython3",
            "version": "3.6.9"
        }
    },
    "nbformat": 4,
    "nbformat_minor": 1
}