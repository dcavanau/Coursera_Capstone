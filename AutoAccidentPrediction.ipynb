{
    "cells": [
        {
            "cell_type": "markdown",
            "metadata": {
                "collapsed": true
            },
            "source": "# Capstone Project - Auto Accident Prediction (Week 2)\n## Applied Data Science Capstone by IBM/Coursera\n\nThis notebook will be used for the Applied Data Science Capstone project"
        },
        {
            "cell_type": "markdown",
            "metadata": {},
            "source": "## Table of contents\n* [Introduction: Business Problem](#introduction)\n* [Data](#data)\n* [Methodology](#methodology)\n* [Analysis](#analysis)\n* [Results and Discussion](#results)\n* [Conclusion](#conclusion)"
        },
        {
            "cell_type": "markdown",
            "metadata": {},
            "source": "## Introduction: Business Problem <a name=\"introduction\"></a>"
        },
        {
            "cell_type": "markdown",
            "metadata": {},
            "source": "Say you are driving to another city for work or to visit some friends. It is rainy and windy. On the way to your destination, you come across a terrible traffic jam on the other side of the highway. Long lines of cars are barely moving. As you keep driving, police car start appearing from afar, shutting down the highway. There is an accident and a helicopter is transporting the ones involved in the crash to the nearest hospital. The victems must be in critical condition for all of this to be happening.\n \nNow, wouldn't it be great if there is something in place that could warn you, given the weather and the road conditions, about the possibility of you getting into a car accident and how severe it would be.  The advance warning could prompt you to  drive more carefully or even change your travel plans if you are able to."
        },
        {
            "cell_type": "markdown",
            "metadata": {},
            "source": "## Data <a name=\"data\"></a>"
        },
        {
            "cell_type": "markdown",
            "metadata": {},
            "source": "Load the required libraries"
        },
        {
            "cell_type": "code",
            "execution_count": 1,
            "metadata": {},
            "outputs": [],
            "source": "import itertools\nimport numpy as np\nimport matplotlib.pyplot as plt\nfrom matplotlib.ticker import NullFormatter\nimport pandas as pd\nimport numpy as np\nimport matplotlib.ticker as ticker\nfrom sklearn import preprocessing\n%matplotlib inline"
        },
        {
            "cell_type": "markdown",
            "metadata": {},
            "source": "### Retrieve The Dataset\nThe data used to train and evaluate the model is the collision data set from the SDOT Traffic Management Division, Traffic Records Group. The data set is updated weekly from 2004 to the present. The data set is compiled from all collisions provided by the Seattle Police department and recorded by the Traffic Records Group.\n\n\nDownload the current collision data from <a name=Seattle Geo Data>http://data-seattlecitygis.opendata.arcgis.com</a>"
        },
        {
            "cell_type": "code",
            "execution_count": 2,
            "metadata": {},
            "outputs": [
                {
                    "name": "stdout",
                    "output_type": "stream",
                    "text": "--2020-09-02 13:37:21--  https://opendata.arcgis.com/datasets/5b5c745e0f1f48e7a53acec63a0022ab_0.csv\nResolving opendata.arcgis.com (opendata.arcgis.com)... 52.71.112.223, 34.202.76.40, 54.152.131.176, ...\nConnecting to opendata.arcgis.com (opendata.arcgis.com)|52.71.112.223|:443... connected.\nHTTP request sent, awaiting response... 200 OK\nLength: unspecified [text/csv]\nSaving to: \u2018Collisions.csv\u2019\n\n    [     <=>                               ] 84,814,898  84.6MB/s   in 1.0s   \n\n2020-09-02 13:37:23 (84.6 MB/s) - \u2018Collisions.csv\u2019 saved [84814898]\n\n"
                }
            ],
            "source": "!wget -O Collisions.csv https://opendata.arcgis.com/datasets/5b5c745e0f1f48e7a53acec63a0022ab_0.csv"
        },
        {
            "cell_type": "markdown",
            "metadata": {},
            "source": "### Load Data from CSV file\nThe data has unlabeled extra columns, which will cause an error if not accounted for. The _OBJECTID_ is used as the index for this dataset."
        },
        {
            "cell_type": "code",
            "execution_count": 3,
            "metadata": {
                "scrolled": true
            },
            "outputs": [
                {
                    "data": {
                        "text/html": "<div>\n<style scoped>\n    .dataframe tbody tr th:only-of-type {\n        vertical-align: middle;\n    }\n\n    .dataframe tbody tr th {\n        vertical-align: top;\n    }\n\n    .dataframe thead th {\n        text-align: right;\n    }\n</style>\n<table border=\"1\" class=\"dataframe\">\n  <thead>\n    <tr style=\"text-align: right;\">\n      <th></th>\n      <th>X</th>\n      <th>Y</th>\n      <th>INCKEY</th>\n      <th>COLDETKEY</th>\n      <th>REPORTNO</th>\n      <th>STATUS</th>\n      <th>ADDRTYPE</th>\n      <th>INTKEY</th>\n      <th>LOCATION</th>\n      <th>EXCEPTRSNCODE</th>\n      <th>...</th>\n      <th>ROADCOND</th>\n      <th>LIGHTCOND</th>\n      <th>PEDROWNOTGRNT</th>\n      <th>SDOTCOLNUM</th>\n      <th>SPEEDING</th>\n      <th>ST_COLCODE</th>\n      <th>ST_COLDESC</th>\n      <th>SEGLANEKEY</th>\n      <th>CROSSWALKKEY</th>\n      <th>HITPARKEDCAR</th>\n    </tr>\n    <tr>\n      <th>OBJECTID</th>\n      <th></th>\n      <th></th>\n      <th></th>\n      <th></th>\n      <th></th>\n      <th></th>\n      <th></th>\n      <th></th>\n      <th></th>\n      <th></th>\n      <th></th>\n      <th></th>\n      <th></th>\n      <th></th>\n      <th></th>\n      <th></th>\n      <th></th>\n      <th></th>\n      <th></th>\n      <th></th>\n      <th></th>\n    </tr>\n  </thead>\n  <tbody>\n    <tr>\n      <th>1</th>\n      <td>-122.288688</td>\n      <td>47.532714</td>\n      <td>29800</td>\n      <td>29800</td>\n      <td>1177964</td>\n      <td>Unmatched</td>\n      <td>Block</td>\n      <td>NaN</td>\n      <td>BEACON ER AVE S BETWEEN S PORTLAND ST AND S CH...</td>\n      <td>NaN</td>\n      <td>...</td>\n      <td>NaN</td>\n      <td>NaN</td>\n      <td>NaN</td>\n      <td>4315006.0</td>\n      <td>NaN</td>\n      <td>NaN</td>\n      <td>NaN</td>\n      <td>0</td>\n      <td>0</td>\n      <td>N</td>\n    </tr>\n    <tr>\n      <th>2</th>\n      <td>NaN</td>\n      <td>NaN</td>\n      <td>115700</td>\n      <td>115700</td>\n      <td>10097005</td>\n      <td>Unmatched</td>\n      <td>NaN</td>\n      <td>NaN</td>\n      <td>NaN</td>\n      <td>NEI</td>\n      <td>...</td>\n      <td>NaN</td>\n      <td>NaN</td>\n      <td>NaN</td>\n      <td>10097005.0</td>\n      <td>NaN</td>\n      <td>NaN</td>\n      <td>NaN</td>\n      <td>0</td>\n      <td>0</td>\n      <td>N</td>\n    </tr>\n    <tr>\n      <th>3</th>\n      <td>-122.355556</td>\n      <td>47.727318</td>\n      <td>1358</td>\n      <td>1358</td>\n      <td>3568600</td>\n      <td>Matched</td>\n      <td>Block</td>\n      <td>NaN</td>\n      <td>GREENWOOD AVE N BETWEEN N 134TH ST AND N 136TH ST</td>\n      <td></td>\n      <td>...</td>\n      <td>Dry</td>\n      <td>Daylight</td>\n      <td>NaN</td>\n      <td>NaN</td>\n      <td>NaN</td>\n      <td>28</td>\n      <td>From opposite direction - one left turn - one ...</td>\n      <td>0</td>\n      <td>0</td>\n      <td>N</td>\n    </tr>\n    <tr>\n      <th>4</th>\n      <td>-122.317563</td>\n      <td>47.618764</td>\n      <td>70700</td>\n      <td>70700</td>\n      <td>2806057</td>\n      <td>Matched</td>\n      <td>Block</td>\n      <td>NaN</td>\n      <td>E DENNY WAY BETWEEN 11TH AVE AND 12TH AVE</td>\n      <td>NaN</td>\n      <td>...</td>\n      <td>Dry</td>\n      <td>Other</td>\n      <td>NaN</td>\n      <td>7065007.0</td>\n      <td>NaN</td>\n      <td>32</td>\n      <td>One parked--one moving</td>\n      <td>0</td>\n      <td>0</td>\n      <td>N</td>\n    </tr>\n    <tr>\n      <th>5</th>\n      <td>-122.361015</td>\n      <td>47.538551</td>\n      <td>53600</td>\n      <td>53600</td>\n      <td>2127310</td>\n      <td>Matched</td>\n      <td>Block</td>\n      <td>NaN</td>\n      <td>DELRIDGE WAY SW BETWEEN SW MYRTLE ST AND SW OR...</td>\n      <td>NaN</td>\n      <td>...</td>\n      <td>Dry</td>\n      <td>Daylight</td>\n      <td>NaN</td>\n      <td>6137017.0</td>\n      <td>NaN</td>\n      <td>14</td>\n      <td>From same direction - both going straight - on...</td>\n      <td>0</td>\n      <td>0</td>\n      <td>N</td>\n    </tr>\n  </tbody>\n</table>\n<p>5 rows \u00d7 39 columns</p>\n</div>",
                        "text/plain": "                   X          Y  INCKEY  COLDETKEY  REPORTNO     STATUS  \\\nOBJECTID                                                                  \n1        -122.288688  47.532714   29800      29800   1177964  Unmatched   \n2                NaN        NaN  115700     115700  10097005  Unmatched   \n3        -122.355556  47.727318    1358       1358   3568600    Matched   \n4        -122.317563  47.618764   70700      70700   2806057    Matched   \n5        -122.361015  47.538551   53600      53600   2127310    Matched   \n\n         ADDRTYPE  INTKEY                                           LOCATION  \\\nOBJECTID                                                                       \n1           Block     NaN  BEACON ER AVE S BETWEEN S PORTLAND ST AND S CH...   \n2             NaN     NaN                                                NaN   \n3           Block     NaN  GREENWOOD AVE N BETWEEN N 134TH ST AND N 136TH ST   \n4           Block     NaN          E DENNY WAY BETWEEN 11TH AVE AND 12TH AVE   \n5           Block     NaN  DELRIDGE WAY SW BETWEEN SW MYRTLE ST AND SW OR...   \n\n         EXCEPTRSNCODE  ... ROADCOND LIGHTCOND PEDROWNOTGRNT  SDOTCOLNUM  \\\nOBJECTID                ...                                                \n1                  NaN  ...      NaN       NaN           NaN   4315006.0   \n2                  NEI  ...      NaN       NaN           NaN  10097005.0   \n3                       ...      Dry  Daylight           NaN         NaN   \n4                  NaN  ...      Dry     Other           NaN   7065007.0   \n5                  NaN  ...      Dry  Daylight           NaN   6137017.0   \n\n          SPEEDING  ST_COLCODE  \\\nOBJECTID                         \n1              NaN         NaN   \n2              NaN         NaN   \n3              NaN          28   \n4              NaN          32   \n5              NaN          14   \n\n                                                 ST_COLDESC  SEGLANEKEY  \\\nOBJECTID                                                                  \n1                                                       NaN           0   \n2                                                       NaN           0   \n3         From opposite direction - one left turn - one ...           0   \n4                                    One parked--one moving           0   \n5         From same direction - both going straight - on...           0   \n\n          CROSSWALKKEY  HITPARKEDCAR  \nOBJECTID                              \n1                    0             N  \n2                    0             N  \n3                    0             N  \n4                    0             N  \n5                    0             N  \n\n[5 rows x 39 columns]"
                    },
                    "execution_count": 3,
                    "metadata": {},
                    "output_type": "execute_result"
                }
            ],
            "source": "cols = pd.read_csv('Collisions.csv', nrows=1).columns\ndf = pd.read_csv('Collisions.csv', usecols=cols, index_col=2)\ndf.head()"
        },
        {
            "cell_type": "markdown",
            "metadata": {},
            "source": "### Preprocess The Data\n\nNormalize the data and fill in missing values where it makes sense. Display the frequency tables for various features to helpdetermine which features to use."
        },
        {
            "cell_type": "code",
            "execution_count": 4,
            "metadata": {
                "scrolled": true
            },
            "outputs": [
                {
                    "name": "stdout",
                    "output_type": "stream",
                    "text": "\nAddress Type:\n Block           144784\nIntersection     71774\nUnknown           3712\nAlley              874\nName: ADDRTYPE, dtype: int64\n\nWeather:\n Clear                       114342\nUnknown                      41724\nRaining                      34019\nOvercast                     28504\nSnowing                        919\nOther                          851\nFog/Smog/Smoke                 577\nSleet/Hail/Freezing Rain       116\nBlowing Sand/Dirt               56\nSevere Crosswind                26\nPartly Cloudy                    9\nBlowing Snow                     1\nName: WEATHER, dtype: int64\n\nLight Conditions:\n Daylight                    119149\nDark - Street Lights On      50048\nUnknown                      40201\nDusk                          6074\nDawn                          2599\nDark - No Street Lights       1573\nDark - Street Lights Off      1236\nOther                          244\nDark - Unknown Lighting         20\nName: LIGHTCOND, dtype: int64\n\nRoad Conditions:\n Dry               128150\nWet                48711\nUnknown            41642\nIce                 1231\nSnow/Slush          1014\nOther                136\nStanding Water       119\nSand/Mud/Dirt         77\nOil                   64\nName: ROADCOND, dtype: int64\n\nJunction Type:\n Mid-Block (not related to intersection)              101523\nAt Intersection (intersection related)                69068\nMid-Block (but intersection related)                  24392\nUnknown                                               11983\nDriveway Junction                                     11493\nAt Intersection (but not related to intersection)      2495\nRamp Junction                                           190\nName: JUNCTIONTYPE, dtype: int64\n\nInattention Indicator:\n N    190956\nY     30188\nName: INATTENTIONIND, dtype: int64\n\nUnder Influence:\n N    211515\nY      9629\nName: UNDERINFL, dtype: int64\n\nPedestrian Not Granted:\n N    215956\nY      5188\nName: PEDROWNOTGRNT, dtype: int64\n\nSpeeding:\n N    211232\nY      9912\nName: SPEEDING, dtype: int64\n\nHit Parked Car:\n N    209193\nY     11951\nName: HITPARKEDCAR, dtype: int64\n"
                }
            ],
            "source": "df['ADDRTYPE'] = df['ADDRTYPE'].fillna('Unknown')\nprint(\"\\nAddress Type:\\n\", df['ADDRTYPE'].value_counts())\n\ndf['WEATHER'] = df['WEATHER'].fillna('Unknown')\nprint(\"\\nWeather:\\n\", df['WEATHER'].value_counts())\n\ndf['LIGHTCOND'] = df['LIGHTCOND'].fillna('Unknown')\nprint(\"\\nLight Conditions:\\n\", df['LIGHTCOND'].value_counts())\n\ndf['ROADCOND'] = df['ROADCOND'].fillna('Unknown')\nprint(\"\\nRoad Conditions:\\n\", df['ROADCOND'].value_counts())\n\ndf['JUNCTIONTYPE'] = df['JUNCTIONTYPE'].fillna('Unknown')\nprint(\"\\nJunction Type:\\n\", df['JUNCTIONTYPE'].value_counts())\n\n# treat an blank record as N\ndf['INATTENTIONIND'] = df['INATTENTIONIND'].fillna('N')\nprint(\"\\nInattention Indicator:\\n\", df['INATTENTIONIND'].value_counts())\n\n# treat an blank record as N, a 0 as N and 1 as Y\ndf['UNDERINFL'] = df['UNDERINFL'].fillna('N')\ndf['UNDERINFL'] = df['UNDERINFL'].replace(['0','1'],['N','Y'])\nprint(\"\\nUnder Influence:\\n\", df['UNDERINFL'].value_counts())\n\n# treat an blank record as N, a 0 as N and 1 as Y\ndf['PEDROWNOTGRNT'] = df['PEDROWNOTGRNT'].fillna('N')\ndf['PEDROWNOTGRNT'] = df['PEDROWNOTGRNT'].replace(['0','1'],['N','Y'])\nprint(\"\\nPedestrian Not Granted:\\n\", df['PEDROWNOTGRNT'].value_counts())\n\n# treat an blank record as N, a 0 as N and 1 as Y\ndf['SPEEDING'] = df['SPEEDING'].fillna('N')\ndf['SPEEDING'] = df['SPEEDING'].replace(['0','1'],['N','Y'])\nprint(\"\\nSpeeding:\\n\", df['SPEEDING'].value_counts())\n\nprint(\"\\nHit Parked Car:\\n\", df['HITPARKEDCAR'].value_counts())\n"
        },
        {
            "cell_type": "markdown",
            "metadata": {},
            "source": "### Assess The Features To Use"
        },
        {
            "cell_type": "markdown",
            "metadata": {},
            "source": "Remove rows where where the value is _Unknown_."
        },
        {
            "cell_type": "code",
            "execution_count": 5,
            "metadata": {},
            "outputs": [
                {
                    "name": "stdout",
                    "output_type": "stream",
                    "text": "Rows before cleaning:  (221144, 39)\nRows after cleaning:  (174633, 39)\n"
                }
            ],
            "source": "print(\"Rows before cleaning: \", df.shape)\ndf = df[~df['ADDRTYPE'].isin(['Unknown'])]\ndf = df[~df['WEATHER'].isin(['Unknown'])]\ndf = df[~df['LIGHTCOND'].isin(['Unknown'])]\ndf = df[~df['ROADCOND'].isin(['Unknown'])]\nprint (\"Rows after cleaning: \", df.shape)"
        },
        {
            "cell_type": "markdown",
            "metadata": {},
            "source": "Remove unneeded columns/features"
        },
        {
            "cell_type": "code",
            "execution_count": 6,
            "metadata": {},
            "outputs": [
                {
                    "data": {
                        "text/html": "<div>\n<style scoped>\n    .dataframe tbody tr th:only-of-type {\n        vertical-align: middle;\n    }\n\n    .dataframe tbody tr th {\n        vertical-align: top;\n    }\n\n    .dataframe thead th {\n        text-align: right;\n    }\n</style>\n<table border=\"1\" class=\"dataframe\">\n  <thead>\n    <tr style=\"text-align: right;\">\n      <th></th>\n      <th>X</th>\n      <th>Y</th>\n      <th>SEVERITYCODE</th>\n      <th>PERSONCOUNT</th>\n      <th>VEHCOUNT</th>\n      <th>WEATHER</th>\n      <th>ROADCOND</th>\n      <th>LIGHTCOND</th>\n    </tr>\n    <tr>\n      <th>OBJECTID</th>\n      <th></th>\n      <th></th>\n      <th></th>\n      <th></th>\n      <th></th>\n      <th></th>\n      <th></th>\n      <th></th>\n    </tr>\n  </thead>\n  <tbody>\n    <tr>\n      <th>3</th>\n      <td>-122.355556</td>\n      <td>47.727318</td>\n      <td>1</td>\n      <td>2</td>\n      <td>2</td>\n      <td>Overcast</td>\n      <td>Dry</td>\n      <td>Daylight</td>\n    </tr>\n    <tr>\n      <th>4</th>\n      <td>-122.317563</td>\n      <td>47.618764</td>\n      <td>1</td>\n      <td>2</td>\n      <td>2</td>\n      <td>Clear</td>\n      <td>Dry</td>\n      <td>Other</td>\n    </tr>\n    <tr>\n      <th>5</th>\n      <td>-122.361015</td>\n      <td>47.538551</td>\n      <td>1</td>\n      <td>2</td>\n      <td>2</td>\n      <td>Clear</td>\n      <td>Dry</td>\n      <td>Daylight</td>\n    </tr>\n    <tr>\n      <th>6</th>\n      <td>-122.386772</td>\n      <td>47.564720</td>\n      <td>2</td>\n      <td>4</td>\n      <td>2</td>\n      <td>Clear</td>\n      <td>Dry</td>\n      <td>Daylight</td>\n    </tr>\n    <tr>\n      <th>7</th>\n      <td>-122.365869</td>\n      <td>47.525967</td>\n      <td>1</td>\n      <td>2</td>\n      <td>2</td>\n      <td>Clear</td>\n      <td>Dry</td>\n      <td>Dark - Street Lights On</td>\n    </tr>\n  </tbody>\n</table>\n</div>",
                        "text/plain": "                   X          Y SEVERITYCODE  PERSONCOUNT  VEHCOUNT   WEATHER  \\\nOBJECTID                                                                        \n3        -122.355556  47.727318            1            2         2  Overcast   \n4        -122.317563  47.618764            1            2         2     Clear   \n5        -122.361015  47.538551            1            2         2     Clear   \n6        -122.386772  47.564720            2            4         2     Clear   \n7        -122.365869  47.525967            1            2         2     Clear   \n\n         ROADCOND                LIGHTCOND  \nOBJECTID                                    \n3             Dry                 Daylight  \n4             Dry                    Other  \n5             Dry                 Daylight  \n6             Dry                 Daylight  \n7             Dry  Dark - Street Lights On  "
                    },
                    "execution_count": 6,
                    "metadata": {},
                    "output_type": "execute_result"
                }
            ],
            "source": "df.drop(inplace=True, columns=['INCKEY', 'COLDETKEY','REPORTNO', 'STATUS', 'ADDRTYPE', 'INTKEY', 'LOCATION', 'EXCEPTRSNCODE', 'EXCEPTRSNDESC', 'SEVERITYDESC', 'COLLISIONTYPE', 'PEDCOUNT', 'PEDCYLCOUNT', 'INJURIES', 'SERIOUSINJURIES', 'FATALITIES', 'INCDATE', 'INCDTTM', 'JUNCTIONTYPE', 'SDOT_COLCODE', 'SDOT_COLDESC', 'INATTENTIONIND', 'UNDERINFL', 'PEDROWNOTGRNT', 'SDOTCOLNUM', 'SPEEDING', 'ST_COLCODE', 'ST_COLDESC', 'SEGLANEKEY', 'CROSSWALKKEY', 'HITPARKEDCAR'])\ndf.head()\n"
        },
        {
            "cell_type": "code",
            "execution_count": 7,
            "metadata": {},
            "outputs": [
                {
                    "data": {
                        "text/plain": "(174633, 8)"
                    },
                    "execution_count": 7,
                    "metadata": {},
                    "output_type": "execute_result"
                }
            ],
            "source": "df.shape"
        },
        {
            "cell_type": "markdown",
            "metadata": {},
            "source": "## Methodology <a name=\"methodology\"></a>"
        },
        {
            "cell_type": "markdown",
            "metadata": {},
            "source": "## Analysis <a name=\"analysis\"></a>"
        },
        {
            "cell_type": "markdown",
            "metadata": {},
            "source": "## Results and Discussion <a name=\"results\"></a>"
        },
        {
            "cell_type": "markdown",
            "metadata": {},
            "source": "## Conclusion <a name=\"conclusion\"></a>"
        }
    ],
    "metadata": {
        "kernelspec": {
            "display_name": "Python 3.6",
            "language": "python",
            "name": "python3"
        },
        "language_info": {
            "codemirror_mode": {
                "name": "ipython",
                "version": 3
            },
            "file_extension": ".py",
            "mimetype": "text/x-python",
            "name": "python",
            "nbconvert_exporter": "python",
            "pygments_lexer": "ipython3",
            "version": "3.6.9"
        }
    },
    "nbformat": 4,
    "nbformat_minor": 1
}